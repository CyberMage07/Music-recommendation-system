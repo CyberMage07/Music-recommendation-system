{
  "nbformat": 4,
  "nbformat_minor": 0,
  "metadata": {
    "kernelspec": {
      "display_name": "Python 3",
      "language": "python",
      "name": "python3"
    },
    "language_info": {
      "codemirror_mode": {
        "name": "ipython",
        "version": 3
      },
      "file_extension": ".py",
      "mimetype": "text/x-python",
      "name": "python",
      "nbconvert_exporter": "python",
      "pygments_lexer": "ipython3",
      "version": "3.7.7"
    },
    "colab": {
      "name": "Emotion detector version2.ipynb",
      "provenance": [],
      "collapsed_sections": []
    },
    "accelerator": "GPU"
  },
  "cells": [
    {
      "cell_type": "code",
      "metadata": {
        "id": "jbo4wYjKllib",
        "colab_type": "code",
        "colab": {
          "base_uri": "https://localhost:8080/",
          "height": 34
        },
        "outputId": "44c92206-8520-450c-aee8-e506d3b63288"
      },
      "source": [
        "from google.colab import drive\n",
        "drive.mount('/content/drive')"
      ],
      "execution_count": 1,
      "outputs": [
        {
          "output_type": "stream",
          "text": [
            "Mounted at /content/drive\n"
          ],
          "name": "stdout"
        }
      ]
    },
    {
      "cell_type": "code",
      "metadata": {
        "id": "7b5pVbVQe-Wh",
        "colab_type": "code",
        "colab": {}
      },
      "source": [
        "import numpy as np \n",
        "import pandas as pd"
      ],
      "execution_count": 2,
      "outputs": []
    },
    {
      "cell_type": "code",
      "metadata": {
        "id": "OFeAiXp3e-XH",
        "colab_type": "code",
        "colab": {}
      },
      "source": [
        "\n",
        "from matplotlib import pyplot\n",
        "\n",
        "from sklearn.model_selection import train_test_split\n",
        "from sklearn.preprocessing import LabelEncoder\n",
        "from sklearn.metrics import classification_report\n",
        "from keras.utils import np_utils\n",
        "import tensorflow as tf\n",
        "from tensorflow.keras import optimizers\n",
        "from tensorflow.keras.datasets import mnist\n",
        "from tensorflow.keras.models import Sequential\n",
        "from tensorflow.keras.layers import Flatten, Dense, Conv2D, MaxPooling2D\n",
        "from tensorflow.keras.layers import Dropout, BatchNormalization, LeakyReLU, Activation\n",
        "from tensorflow.keras.callbacks import Callback, EarlyStopping, ReduceLROnPlateau\n",
        "from tensorflow.keras.preprocessing.image import ImageDataGenerator"
      ],
      "execution_count": 3,
      "outputs": []
    },
    {
      "cell_type": "code",
      "metadata": {
        "id": "qqt5PG3qe-Xs",
        "colab_type": "code",
        "colab": {
          "base_uri": "https://localhost:8080/",
          "height": 212
        },
        "outputId": "0da2ed70-f573-42ce-a931-536c82c1c460"
      },
      "source": [
        "\n",
        "df = pd.read_csv(\"/content/drive/My Drive/fer2013.csv\")\n",
        "print(df.shape)\n",
        "df.head()"
      ],
      "execution_count": 4,
      "outputs": [
        {
          "output_type": "stream",
          "text": [
            "(35887, 3)\n"
          ],
          "name": "stdout"
        },
        {
          "output_type": "execute_result",
          "data": {
            "text/html": [
              "<div>\n",
              "<style scoped>\n",
              "    .dataframe tbody tr th:only-of-type {\n",
              "        vertical-align: middle;\n",
              "    }\n",
              "\n",
              "    .dataframe tbody tr th {\n",
              "        vertical-align: top;\n",
              "    }\n",
              "\n",
              "    .dataframe thead th {\n",
              "        text-align: right;\n",
              "    }\n",
              "</style>\n",
              "<table border=\"1\" class=\"dataframe\">\n",
              "  <thead>\n",
              "    <tr style=\"text-align: right;\">\n",
              "      <th></th>\n",
              "      <th>emotion</th>\n",
              "      <th>pixels</th>\n",
              "      <th>Usage</th>\n",
              "    </tr>\n",
              "  </thead>\n",
              "  <tbody>\n",
              "    <tr>\n",
              "      <th>0</th>\n",
              "      <td>0</td>\n",
              "      <td>70 80 82 72 58 58 60 63 54 58 60 48 89 115 121...</td>\n",
              "      <td>Training</td>\n",
              "    </tr>\n",
              "    <tr>\n",
              "      <th>1</th>\n",
              "      <td>0</td>\n",
              "      <td>151 150 147 155 148 133 111 140 170 174 182 15...</td>\n",
              "      <td>Training</td>\n",
              "    </tr>\n",
              "    <tr>\n",
              "      <th>2</th>\n",
              "      <td>2</td>\n",
              "      <td>231 212 156 164 174 138 161 173 182 200 106 38...</td>\n",
              "      <td>Training</td>\n",
              "    </tr>\n",
              "    <tr>\n",
              "      <th>3</th>\n",
              "      <td>4</td>\n",
              "      <td>24 32 36 30 32 23 19 20 30 41 21 22 32 34 21 1...</td>\n",
              "      <td>Training</td>\n",
              "    </tr>\n",
              "    <tr>\n",
              "      <th>4</th>\n",
              "      <td>6</td>\n",
              "      <td>4 0 0 0 0 0 0 0 0 0 0 0 3 15 23 28 48 50 58 84...</td>\n",
              "      <td>Training</td>\n",
              "    </tr>\n",
              "  </tbody>\n",
              "</table>\n",
              "</div>"
            ],
            "text/plain": [
              "   emotion                                             pixels     Usage\n",
              "0        0  70 80 82 72 58 58 60 63 54 58 60 48 89 115 121...  Training\n",
              "1        0  151 150 147 155 148 133 111 140 170 174 182 15...  Training\n",
              "2        2  231 212 156 164 174 138 161 173 182 200 106 38...  Training\n",
              "3        4  24 32 36 30 32 23 19 20 30 41 21 22 32 34 21 1...  Training\n",
              "4        6  4 0 0 0 0 0 0 0 0 0 0 0 3 15 23 28 48 50 58 84...  Training"
            ]
          },
          "metadata": {
            "tags": []
          },
          "execution_count": 4
        }
      ]
    },
    {
      "cell_type": "code",
      "metadata": {
        "id": "CGkqGIk0e-X-",
        "colab_type": "code",
        "colab": {}
      },
      "source": [
        "emotion_label_to_text = {0:'anger', 1:'disgust', 2:'fear', 3:'happiness', 4: 'sadness', 5: 'surprise', 6: 'neutral'}"
      ],
      "execution_count": 5,
      "outputs": []
    },
    {
      "cell_type": "code",
      "metadata": {
        "id": "EquAPUdke-Yq",
        "colab_type": "code",
        "colab": {}
      },
      "source": [
        "INTERESTED_LABELS = [3, 4, 6]\n",
        "df = df[df.emotion.isin(INTERESTED_LABELS)]"
      ],
      "execution_count": 6,
      "outputs": []
    },
    {
      "cell_type": "code",
      "metadata": {
        "id": "WPbMpEyoe-ZB",
        "colab_type": "code",
        "colab": {}
      },
      "source": [
        "img_array = df.pixels.apply(lambda x: np.array(x.split(' ')).reshape(48, 48, 1).astype('float32'))\n",
        "img_array = np.stack(img_array, axis=0)"
      ],
      "execution_count": 7,
      "outputs": []
    },
    {
      "cell_type": "code",
      "metadata": {
        "id": "LVZ_fcJ8lcrN",
        "colab_type": "code",
        "colab": {}
      },
      "source": [
        ""
      ],
      "execution_count": 7,
      "outputs": []
    },
    {
      "cell_type": "code",
      "metadata": {
        "id": "oIvYcM8ue-ZZ",
        "colab_type": "code",
        "colab": {
          "base_uri": "https://localhost:8080/",
          "height": 34
        },
        "outputId": "d7a96ff6-ea5c-4f13-a3bb-0f5ba9ed586e"
      },
      "source": [
        "le = LabelEncoder()\n",
        "img_labels = le.fit_transform(df['emotion'])\n",
        "img_labels = np_utils.to_categorical(img_labels)\n",
        "img_labels.shape"
      ],
      "execution_count": 8,
      "outputs": [
        {
          "output_type": "execute_result",
          "data": {
            "text/plain": [
              "(21264, 3)"
            ]
          },
          "metadata": {
            "tags": []
          },
          "execution_count": 8
        }
      ]
    },
    {
      "cell_type": "code",
      "metadata": {
        "id": "TqnAa2v_e-Z5",
        "colab_type": "code",
        "colab": {
          "base_uri": "https://localhost:8080/",
          "height": 34
        },
        "outputId": "6219cd53-d003-4419-fc75-68d150448f6e"
      },
      "source": [
        "le_name_mapping = dict(zip(le.classes_, le.transform(le.classes_)))\n",
        "print(le_name_mapping)"
      ],
      "execution_count": 9,
      "outputs": [
        {
          "output_type": "stream",
          "text": [
            "{3: 0, 4: 1, 6: 2}\n"
          ],
          "name": "stdout"
        }
      ]
    },
    {
      "cell_type": "code",
      "metadata": {
        "id": "6rZH3dgde-aV",
        "colab_type": "code",
        "colab": {
          "base_uri": "https://localhost:8080/",
          "height": 34
        },
        "outputId": "d60c432b-9a0f-4501-fd20-609004bd67eb"
      },
      "source": [
        "X_train, X_test, y_train, y_test = train_test_split(img_array, img_labels,\n",
        "                                                    shuffle=True, stratify=img_labels,\n",
        "                                                    test_size=0.1, random_state=42)\n",
        "X_train.shape, X_test.shape, y_train.shape, y_test.shape"
      ],
      "execution_count": 10,
      "outputs": [
        {
          "output_type": "execute_result",
          "data": {
            "text/plain": [
              "((19137, 48, 48, 1), (2127, 48, 48, 1), (19137, 3), (2127, 3))"
            ]
          },
          "metadata": {
            "tags": []
          },
          "execution_count": 10
        }
      ]
    },
    {
      "cell_type": "code",
      "metadata": {
        "id": "dSwptfn2e-ad",
        "colab_type": "code",
        "colab": {}
      },
      "source": [
        "img_width = X_train.shape[1]\n",
        "img_height = X_train.shape[2]\n",
        "img_depth = X_train.shape[3]\n",
        "num_classes = y_train.shape[1]"
      ],
      "execution_count": 11,
      "outputs": []
    },
    {
      "cell_type": "code",
      "metadata": {
        "id": "msZ6Cw2ae-bF",
        "colab_type": "code",
        "colab": {}
      },
      "source": [
        "X_train = X_train / 255.\n",
        "X_test = X_test / 255."
      ],
      "execution_count": 12,
      "outputs": []
    },
    {
      "cell_type": "code",
      "metadata": {
        "id": "vpoPpCL-e-bR",
        "colab_type": "code",
        "colab": {}
      },
      "source": [
        "def build_net(optim):\n",
        "            net = Sequential(name='DCNN')\n",
        "\n",
        "            net.add(Conv2D(filters=64,kernel_size=(5,5),input_shape=(img_width, img_height, img_depth),activation='elu',\n",
        "                           padding='same',kernel_initializer='he_normal', name='conv2d_1'))\n",
        "            net.add(BatchNormalization(name='batchnorm_1'))\n",
        "            net.add(Conv2D(filters=64,kernel_size=(5,5),activation='elu',padding='same',kernel_initializer='he_normal',\n",
        "                        name='conv2d_2'))\n",
        "            net.add(BatchNormalization(name='batchnorm_2'))\n",
        "            net.add(MaxPooling2D(pool_size=(2,2), name='maxpool2d_1'))\n",
        "            net.add(Dropout(0.4, name='dropout_1'))\n",
        "            net.add(Conv2D(filters=128,kernel_size=(3,3),activation='elu',padding='same',kernel_initializer='he_normal',\n",
        "                        name='conv2d_3'))\n",
        "            net.add(BatchNormalization(name='batchnorm_3'))\n",
        "            net.add(Conv2D(filters=128,kernel_size=(3,3),activation='elu',padding='same',kernel_initializer='he_normal',\n",
        "                        name='conv2d_4'))\n",
        "            net.add(BatchNormalization(name='batchnorm_4'))\n",
        "            net.add(MaxPooling2D(pool_size=(2,2), name='maxpool2d_2'))\n",
        "            net.add(Dropout(0.4, name='dropout_2'))\n",
        "            net.add(Conv2D(filters=256,kernel_size=(3,3),activation='elu',padding='same',kernel_initializer='he_normal',\n",
        "                        name='conv2d_5'))\n",
        "            net.add(BatchNormalization(name='batchnorm_5'))\n",
        "            net.add(Conv2D(filters=256,kernel_size=(3,3),activation='elu',padding='same',kernel_initializer='he_normal',\n",
        "                        name='conv2d_6'))\n",
        "            net.add(BatchNormalization(name='batchnorm_6'))\n",
        "            net.add(MaxPooling2D(pool_size=(2,2), name='maxpool2d_3'))\n",
        "            net.add(Dropout(0.5, name='dropout_3'))\n",
        "            net.add(Flatten(name='flatten'))\n",
        "            net.add(Dense(128,activation='elu',kernel_initializer='he_normal',name='dense_1'))\n",
        "            net.add(BatchNormalization(name='batchnorm_7'))\n",
        "            net.add(Dropout(0.6, name='dropout_4'))\n",
        "            net.add(Dense(num_classes,activation='softmax',name='out_layer'))\n",
        "\n",
        "            net.compile(loss='categorical_crossentropy',optimizer='adam',metrics=['accuracy'])\n",
        "\n",
        "            net.summary()\n",
        "            \n",
        "            return net\n",
        "\n"
      ],
      "execution_count": 13,
      "outputs": []
    },
    {
      "cell_type": "code",
      "metadata": {
        "id": "ZxWGDBnse-bk",
        "colab_type": "code",
        "colab": {}
      },
      "source": [
        "\n",
        "early_stopping = EarlyStopping(monitor='val_accuracy',min_delta=0.00005,patience=15,verbose=1,\n",
        "    restore_best_weights=True)\n",
        "\n",
        "lr_scheduler = ReduceLROnPlateau(monitor='val_accuracy',factor=0.5,patience=7,min_lr=1e-7,verbose=1)\n",
        "\n",
        "callbacks = [early_stopping,lr_scheduler]"
      ],
      "execution_count": 14,
      "outputs": []
    },
    {
      "cell_type": "code",
      "metadata": {
        "id": "-6lpLGhSe-cE",
        "colab_type": "code",
        "colab": {}
      },
      "source": [
        "train_datagen = ImageDataGenerator(rotation_range=15,width_shift_range=0.15,height_shift_range=0.15,\n",
        "    shear_range=0.15,zoom_range=0.15,horizontal_flip=True)\n",
        "train_datagen.fit(X_train)"
      ],
      "execution_count": 15,
      "outputs": []
    },
    {
      "cell_type": "code",
      "metadata": {
        "id": "ImQK8ygNe-cL",
        "colab_type": "code",
        "colab": {
          "base_uri": "https://localhost:8080/",
          "height": 1000
        },
        "outputId": "ea8b8723-a586-40e4-e445-33e35827107d"
      },
      "source": [
        "batch_size = 32 \n",
        "epochs = 100\n",
        "optims = [optimizers.Nadam(learning_rate=0.001, beta_1=0.9, beta_2=0.999, epsilon=1e-07, name='Nadam')\n",
        "          ,optimizers.Adam(0.001)]\n",
        "\n",
        "model = build_net(optims[1]) \n",
        "history = model.fit(train_datagen.flow(X_train, y_train, batch_size=batch_size),validation_data=(X_test, y_test),\n",
        "    steps_per_epoch=len(X_train) / batch_size,epochs=epochs,callbacks=callbacks)"
      ],
      "execution_count": 16,
      "outputs": [
        {
          "output_type": "stream",
          "text": [
            "Model: \"DCNN\"\n",
            "_________________________________________________________________\n",
            "Layer (type)                 Output Shape              Param #   \n",
            "=================================================================\n",
            "conv2d_1 (Conv2D)            (None, 48, 48, 64)        1664      \n",
            "_________________________________________________________________\n",
            "batchnorm_1 (BatchNormalizat (None, 48, 48, 64)        256       \n",
            "_________________________________________________________________\n",
            "conv2d_2 (Conv2D)            (None, 48, 48, 64)        102464    \n",
            "_________________________________________________________________\n",
            "batchnorm_2 (BatchNormalizat (None, 48, 48, 64)        256       \n",
            "_________________________________________________________________\n",
            "maxpool2d_1 (MaxPooling2D)   (None, 24, 24, 64)        0         \n",
            "_________________________________________________________________\n",
            "dropout_1 (Dropout)          (None, 24, 24, 64)        0         \n",
            "_________________________________________________________________\n",
            "conv2d_3 (Conv2D)            (None, 24, 24, 128)       73856     \n",
            "_________________________________________________________________\n",
            "batchnorm_3 (BatchNormalizat (None, 24, 24, 128)       512       \n",
            "_________________________________________________________________\n",
            "conv2d_4 (Conv2D)            (None, 24, 24, 128)       147584    \n",
            "_________________________________________________________________\n",
            "batchnorm_4 (BatchNormalizat (None, 24, 24, 128)       512       \n",
            "_________________________________________________________________\n",
            "maxpool2d_2 (MaxPooling2D)   (None, 12, 12, 128)       0         \n",
            "_________________________________________________________________\n",
            "dropout_2 (Dropout)          (None, 12, 12, 128)       0         \n",
            "_________________________________________________________________\n",
            "conv2d_5 (Conv2D)            (None, 12, 12, 256)       295168    \n",
            "_________________________________________________________________\n",
            "batchnorm_5 (BatchNormalizat (None, 12, 12, 256)       1024      \n",
            "_________________________________________________________________\n",
            "conv2d_6 (Conv2D)            (None, 12, 12, 256)       590080    \n",
            "_________________________________________________________________\n",
            "batchnorm_6 (BatchNormalizat (None, 12, 12, 256)       1024      \n",
            "_________________________________________________________________\n",
            "maxpool2d_3 (MaxPooling2D)   (None, 6, 6, 256)         0         \n",
            "_________________________________________________________________\n",
            "dropout_3 (Dropout)          (None, 6, 6, 256)         0         \n",
            "_________________________________________________________________\n",
            "flatten (Flatten)            (None, 9216)              0         \n",
            "_________________________________________________________________\n",
            "dense_1 (Dense)              (None, 128)               1179776   \n",
            "_________________________________________________________________\n",
            "batchnorm_7 (BatchNormalizat (None, 128)               512       \n",
            "_________________________________________________________________\n",
            "dropout_4 (Dropout)          (None, 128)               0         \n",
            "_________________________________________________________________\n",
            "out_layer (Dense)            (None, 3)                 387       \n",
            "=================================================================\n",
            "Total params: 2,395,075\n",
            "Trainable params: 2,393,027\n",
            "Non-trainable params: 2,048\n",
            "_________________________________________________________________\n",
            "Epoch 1/100\n",
            "599/598 [==============================] - 14s 23ms/step - loss: 1.3147 - accuracy: 0.4029 - val_loss: 0.9888 - val_accuracy: 0.4998\n",
            "Epoch 2/100\n",
            "599/598 [==============================] - 13s 23ms/step - loss: 1.0252 - accuracy: 0.4862 - val_loss: 0.8841 - val_accuracy: 0.5863\n",
            "Epoch 3/100\n",
            "599/598 [==============================] - 14s 23ms/step - loss: 0.9251 - accuracy: 0.5534 - val_loss: 0.7711 - val_accuracy: 0.6314\n",
            "Epoch 4/100\n",
            "599/598 [==============================] - 13s 22ms/step - loss: 0.8138 - accuracy: 0.6125 - val_loss: 0.7762 - val_accuracy: 0.6568\n",
            "Epoch 5/100\n",
            "599/598 [==============================] - 14s 23ms/step - loss: 0.7583 - accuracy: 0.6473 - val_loss: 0.6805 - val_accuracy: 0.6836\n",
            "Epoch 6/100\n",
            "599/598 [==============================] - 14s 23ms/step - loss: 0.7218 - accuracy: 0.6696 - val_loss: 0.6815 - val_accuracy: 0.7043\n",
            "Epoch 7/100\n",
            "599/598 [==============================] - 14s 23ms/step - loss: 0.6857 - accuracy: 0.6926 - val_loss: 0.6618 - val_accuracy: 0.7076\n",
            "Epoch 8/100\n",
            "599/598 [==============================] - 14s 23ms/step - loss: 0.6638 - accuracy: 0.7089 - val_loss: 0.5802 - val_accuracy: 0.7527\n",
            "Epoch 9/100\n",
            "599/598 [==============================] - 14s 23ms/step - loss: 0.6494 - accuracy: 0.7173 - val_loss: 0.5604 - val_accuracy: 0.7626\n",
            "Epoch 10/100\n",
            "599/598 [==============================] - 14s 23ms/step - loss: 0.6383 - accuracy: 0.7233 - val_loss: 0.5564 - val_accuracy: 0.7607\n",
            "Epoch 11/100\n",
            "599/598 [==============================] - 14s 23ms/step - loss: 0.6190 - accuracy: 0.7314 - val_loss: 0.5184 - val_accuracy: 0.7908\n",
            "Epoch 12/100\n",
            "599/598 [==============================] - 14s 23ms/step - loss: 0.6083 - accuracy: 0.7350 - val_loss: 0.5454 - val_accuracy: 0.7692\n",
            "Epoch 13/100\n",
            "599/598 [==============================] - 14s 23ms/step - loss: 0.5958 - accuracy: 0.7431 - val_loss: 0.5435 - val_accuracy: 0.7743\n",
            "Epoch 14/100\n",
            "599/598 [==============================] - 14s 23ms/step - loss: 0.5906 - accuracy: 0.7442 - val_loss: 0.5360 - val_accuracy: 0.7673\n",
            "Epoch 15/100\n",
            "599/598 [==============================] - 14s 23ms/step - loss: 0.5789 - accuracy: 0.7507 - val_loss: 0.4982 - val_accuracy: 0.7913\n",
            "Epoch 16/100\n",
            "599/598 [==============================] - 14s 23ms/step - loss: 0.5760 - accuracy: 0.7557 - val_loss: 0.5255 - val_accuracy: 0.7804\n",
            "Epoch 17/100\n",
            "599/598 [==============================] - 14s 23ms/step - loss: 0.5648 - accuracy: 0.7597 - val_loss: 0.5148 - val_accuracy: 0.7955\n",
            "Epoch 18/100\n",
            "599/598 [==============================] - 14s 23ms/step - loss: 0.5614 - accuracy: 0.7603 - val_loss: 0.5314 - val_accuracy: 0.7814\n",
            "Epoch 19/100\n",
            "599/598 [==============================] - 14s 23ms/step - loss: 0.5545 - accuracy: 0.7652 - val_loss: 0.5272 - val_accuracy: 0.7729\n",
            "Epoch 20/100\n",
            "599/598 [==============================] - 14s 23ms/step - loss: 0.5490 - accuracy: 0.7669 - val_loss: 0.4965 - val_accuracy: 0.7969\n",
            "Epoch 21/100\n",
            "599/598 [==============================] - 14s 23ms/step - loss: 0.5477 - accuracy: 0.7674 - val_loss: 0.4946 - val_accuracy: 0.7927\n",
            "Epoch 22/100\n",
            "599/598 [==============================] - 14s 23ms/step - loss: 0.5400 - accuracy: 0.7728 - val_loss: 0.5180 - val_accuracy: 0.7837\n",
            "Epoch 23/100\n",
            "599/598 [==============================] - 14s 23ms/step - loss: 0.5283 - accuracy: 0.7780 - val_loss: 0.4907 - val_accuracy: 0.7884\n",
            "Epoch 24/100\n",
            "599/598 [==============================] - 14s 23ms/step - loss: 0.5325 - accuracy: 0.7750 - val_loss: 0.4942 - val_accuracy: 0.7927\n",
            "Epoch 25/100\n",
            "599/598 [==============================] - 14s 23ms/step - loss: 0.5266 - accuracy: 0.7779 - val_loss: 0.4840 - val_accuracy: 0.8035\n",
            "Epoch 26/100\n",
            "599/598 [==============================] - 14s 23ms/step - loss: 0.5275 - accuracy: 0.7771 - val_loss: 0.5161 - val_accuracy: 0.7772\n",
            "Epoch 27/100\n",
            "599/598 [==============================] - 14s 23ms/step - loss: 0.5187 - accuracy: 0.7800 - val_loss: 0.4741 - val_accuracy: 0.8148\n",
            "Epoch 28/100\n",
            "599/598 [==============================] - 14s 23ms/step - loss: 0.5139 - accuracy: 0.7865 - val_loss: 0.4753 - val_accuracy: 0.8058\n",
            "Epoch 29/100\n",
            "599/598 [==============================] - 14s 23ms/step - loss: 0.5109 - accuracy: 0.7826 - val_loss: 0.4843 - val_accuracy: 0.7969\n",
            "Epoch 30/100\n",
            "599/598 [==============================] - 14s 23ms/step - loss: 0.5129 - accuracy: 0.7893 - val_loss: 0.5051 - val_accuracy: 0.7927\n",
            "Epoch 31/100\n",
            "599/598 [==============================] - 14s 23ms/step - loss: 0.5045 - accuracy: 0.7889 - val_loss: 0.4617 - val_accuracy: 0.8166\n",
            "Epoch 32/100\n",
            "599/598 [==============================] - 14s 23ms/step - loss: 0.5000 - accuracy: 0.7910 - val_loss: 0.5183 - val_accuracy: 0.7894\n",
            "Epoch 33/100\n",
            "599/598 [==============================] - 14s 23ms/step - loss: 0.4983 - accuracy: 0.7918 - val_loss: 0.4650 - val_accuracy: 0.8124\n",
            "Epoch 34/100\n",
            "599/598 [==============================] - 14s 23ms/step - loss: 0.4960 - accuracy: 0.7953 - val_loss: 0.4835 - val_accuracy: 0.8072\n",
            "Epoch 35/100\n",
            "599/598 [==============================] - 14s 23ms/step - loss: 0.4967 - accuracy: 0.7931 - val_loss: 0.5263 - val_accuracy: 0.7762\n",
            "Epoch 36/100\n",
            "599/598 [==============================] - 14s 23ms/step - loss: 0.4918 - accuracy: 0.7962 - val_loss: 0.4631 - val_accuracy: 0.8119\n",
            "Epoch 37/100\n",
            "599/598 [==============================] - 14s 23ms/step - loss: 0.4871 - accuracy: 0.7962 - val_loss: 0.4813 - val_accuracy: 0.8039\n",
            "Epoch 38/100\n",
            "599/598 [==============================] - ETA: 0s - loss: 0.4861 - accuracy: 0.7992\n",
            "Epoch 00038: ReduceLROnPlateau reducing learning rate to 0.0005000000237487257.\n",
            "599/598 [==============================] - 14s 23ms/step - loss: 0.4861 - accuracy: 0.7992 - val_loss: 0.4796 - val_accuracy: 0.8110\n",
            "Epoch 39/100\n",
            "599/598 [==============================] - 14s 23ms/step - loss: 0.4654 - accuracy: 0.8073 - val_loss: 0.4440 - val_accuracy: 0.8260\n",
            "Epoch 40/100\n",
            "599/598 [==============================] - 13s 22ms/step - loss: 0.4603 - accuracy: 0.8107 - val_loss: 0.4636 - val_accuracy: 0.8228\n",
            "Epoch 41/100\n",
            "599/598 [==============================] - 14s 23ms/step - loss: 0.4503 - accuracy: 0.8177 - val_loss: 0.4540 - val_accuracy: 0.8232\n",
            "Epoch 42/100\n",
            "599/598 [==============================] - 13s 22ms/step - loss: 0.4520 - accuracy: 0.8153 - val_loss: 0.4758 - val_accuracy: 0.8110\n",
            "Epoch 43/100\n",
            "599/598 [==============================] - 14s 23ms/step - loss: 0.4506 - accuracy: 0.8152 - val_loss: 0.4551 - val_accuracy: 0.8213\n",
            "Epoch 44/100\n",
            "599/598 [==============================] - 14s 23ms/step - loss: 0.4521 - accuracy: 0.8120 - val_loss: 0.4689 - val_accuracy: 0.8204\n",
            "Epoch 45/100\n",
            "599/598 [==============================] - 14s 23ms/step - loss: 0.4507 - accuracy: 0.8128 - val_loss: 0.4595 - val_accuracy: 0.8199\n",
            "Epoch 46/100\n",
            "597/598 [============================>.] - ETA: 0s - loss: 0.4424 - accuracy: 0.8188\n",
            "Epoch 00046: ReduceLROnPlateau reducing learning rate to 0.0002500000118743628.\n",
            "599/598 [==============================] - 14s 23ms/step - loss: 0.4427 - accuracy: 0.8188 - val_loss: 0.4554 - val_accuracy: 0.8190\n",
            "Epoch 47/100\n",
            "599/598 [==============================] - 14s 23ms/step - loss: 0.4419 - accuracy: 0.8221 - val_loss: 0.4503 - val_accuracy: 0.8260\n",
            "Epoch 48/100\n",
            "599/598 [==============================] - 14s 23ms/step - loss: 0.4302 - accuracy: 0.8246 - val_loss: 0.4531 - val_accuracy: 0.8213\n",
            "Epoch 49/100\n",
            "599/598 [==============================] - 14s 23ms/step - loss: 0.4262 - accuracy: 0.8242 - val_loss: 0.4500 - val_accuracy: 0.8232\n",
            "Epoch 50/100\n",
            "599/598 [==============================] - 13s 23ms/step - loss: 0.4261 - accuracy: 0.8271 - val_loss: 0.4443 - val_accuracy: 0.8275\n",
            "Epoch 51/100\n",
            "599/598 [==============================] - 13s 23ms/step - loss: 0.4212 - accuracy: 0.8287 - val_loss: 0.4431 - val_accuracy: 0.8289\n",
            "Epoch 52/100\n",
            "599/598 [==============================] - 14s 23ms/step - loss: 0.4162 - accuracy: 0.8335 - val_loss: 0.4470 - val_accuracy: 0.8260\n",
            "Epoch 53/100\n",
            "599/598 [==============================] - 14s 23ms/step - loss: 0.4207 - accuracy: 0.8323 - val_loss: 0.4437 - val_accuracy: 0.8237\n",
            "Epoch 54/100\n",
            "599/598 [==============================] - 14s 23ms/step - loss: 0.4221 - accuracy: 0.8310 - val_loss: 0.4432 - val_accuracy: 0.8260\n",
            "Epoch 55/100\n",
            "599/598 [==============================] - 14s 23ms/step - loss: 0.4140 - accuracy: 0.8325 - val_loss: 0.4494 - val_accuracy: 0.8298\n",
            "Epoch 56/100\n",
            "599/598 [==============================] - 14s 23ms/step - loss: 0.4130 - accuracy: 0.8321 - val_loss: 0.4503 - val_accuracy: 0.8265\n",
            "Epoch 57/100\n",
            "599/598 [==============================] - 14s 23ms/step - loss: 0.4120 - accuracy: 0.8338 - val_loss: 0.4411 - val_accuracy: 0.8303\n",
            "Epoch 58/100\n",
            "599/598 [==============================] - 14s 23ms/step - loss: 0.4119 - accuracy: 0.8336 - val_loss: 0.4415 - val_accuracy: 0.8331\n",
            "Epoch 59/100\n",
            "599/598 [==============================] - 14s 23ms/step - loss: 0.4111 - accuracy: 0.8327 - val_loss: 0.4450 - val_accuracy: 0.8242\n",
            "Epoch 60/100\n",
            "599/598 [==============================] - 14s 23ms/step - loss: 0.4155 - accuracy: 0.8327 - val_loss: 0.4494 - val_accuracy: 0.8218\n",
            "Epoch 61/100\n",
            "599/598 [==============================] - 13s 22ms/step - loss: 0.4122 - accuracy: 0.8339 - val_loss: 0.4477 - val_accuracy: 0.8242\n",
            "Epoch 62/100\n",
            "599/598 [==============================] - 14s 23ms/step - loss: 0.4055 - accuracy: 0.8367 - val_loss: 0.4538 - val_accuracy: 0.8242\n",
            "Epoch 63/100\n",
            "599/598 [==============================] - 14s 23ms/step - loss: 0.4022 - accuracy: 0.8393 - val_loss: 0.4562 - val_accuracy: 0.8289\n",
            "Epoch 64/100\n",
            "599/598 [==============================] - 14s 23ms/step - loss: 0.4015 - accuracy: 0.8400 - val_loss: 0.4609 - val_accuracy: 0.8228\n",
            "Epoch 65/100\n",
            "599/598 [==============================] - ETA: 0s - loss: 0.4036 - accuracy: 0.8361\n",
            "Epoch 00065: ReduceLROnPlateau reducing learning rate to 0.0001250000059371814.\n",
            "599/598 [==============================] - 14s 23ms/step - loss: 0.4036 - accuracy: 0.8361 - val_loss: 0.4503 - val_accuracy: 0.8270\n",
            "Epoch 66/100\n",
            "599/598 [==============================] - 14s 23ms/step - loss: 0.3984 - accuracy: 0.8428 - val_loss: 0.4553 - val_accuracy: 0.8232\n",
            "Epoch 67/100\n",
            "599/598 [==============================] - 14s 23ms/step - loss: 0.3954 - accuracy: 0.8410 - val_loss: 0.4572 - val_accuracy: 0.8242\n",
            "Epoch 68/100\n",
            "599/598 [==============================] - 14s 23ms/step - loss: 0.3945 - accuracy: 0.8416 - val_loss: 0.4520 - val_accuracy: 0.8251\n",
            "Epoch 69/100\n",
            "599/598 [==============================] - 14s 23ms/step - loss: 0.3950 - accuracy: 0.8417 - val_loss: 0.4521 - val_accuracy: 0.8265\n",
            "Epoch 70/100\n",
            "599/598 [==============================] - 13s 23ms/step - loss: 0.3933 - accuracy: 0.8422 - val_loss: 0.4498 - val_accuracy: 0.8260\n",
            "Epoch 71/100\n",
            "599/598 [==============================] - 14s 23ms/step - loss: 0.3913 - accuracy: 0.8443 - val_loss: 0.4490 - val_accuracy: 0.8284\n",
            "Epoch 72/100\n",
            "599/598 [==============================] - ETA: 0s - loss: 0.3878 - accuracy: 0.8451\n",
            "Epoch 00072: ReduceLROnPlateau reducing learning rate to 6.25000029685907e-05.\n",
            "599/598 [==============================] - 14s 23ms/step - loss: 0.3878 - accuracy: 0.8451 - val_loss: 0.4507 - val_accuracy: 0.8326\n",
            "Epoch 73/100\n",
            "597/598 [============================>.] - ETA: 0s - loss: 0.3852 - accuracy: 0.8478Restoring model weights from the end of the best epoch.\n",
            "599/598 [==============================] - 14s 23ms/step - loss: 0.3862 - accuracy: 0.8476 - val_loss: 0.4523 - val_accuracy: 0.8242\n",
            "Epoch 00073: early stopping\n"
          ],
          "name": "stdout"
        }
      ]
    },
    {
      "cell_type": "code",
      "metadata": {
        "id": "CNmntmKve-cS",
        "colab_type": "code",
        "colab": {}
      },
      "source": [
        ""
      ],
      "execution_count": 16,
      "outputs": []
    }
  ]
}